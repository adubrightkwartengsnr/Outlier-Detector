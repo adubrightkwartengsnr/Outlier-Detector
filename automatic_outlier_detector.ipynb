{
 "cells": [
  {
   "cell_type": "code",
   "execution_count": 35,
   "id": "7986a642",
   "metadata": {},
   "outputs": [],
   "source": [
    "import numpy as np\n",
    "import pandas as pd\n",
    "from matplotlib import pyplot as plt\n",
    "from scipy.stats import norm\n",
    "import random as rnd    "
   ]
  },
  {
   "cell_type": "code",
   "execution_count": 36,
   "id": "790d39cc",
   "metadata": {},
   "outputs": [
    {
     "data": {
      "text/html": [
       "<div>\n",
       "<style scoped>\n",
       "    .dataframe tbody tr th:only-of-type {\n",
       "        vertical-align: middle;\n",
       "    }\n",
       "\n",
       "    .dataframe tbody tr th {\n",
       "        vertical-align: top;\n",
       "    }\n",
       "\n",
       "    .dataframe thead th {\n",
       "        text-align: right;\n",
       "    }\n",
       "</style>\n",
       "<table border=\"1\" class=\"dataframe\">\n",
       "  <thead>\n",
       "    <tr style=\"text-align: right;\">\n",
       "      <th></th>\n",
       "      <th>Gender</th>\n",
       "      <th>Height</th>\n",
       "      <th>Weight</th>\n",
       "    </tr>\n",
       "  </thead>\n",
       "  <tbody>\n",
       "    <tr>\n",
       "      <th>0</th>\n",
       "      <td>Male</td>\n",
       "      <td>73.847017</td>\n",
       "      <td>241.893563</td>\n",
       "    </tr>\n",
       "    <tr>\n",
       "      <th>1</th>\n",
       "      <td>Male</td>\n",
       "      <td>68.781904</td>\n",
       "      <td>162.310473</td>\n",
       "    </tr>\n",
       "    <tr>\n",
       "      <th>2</th>\n",
       "      <td>Male</td>\n",
       "      <td>0.000000</td>\n",
       "      <td>212.740856</td>\n",
       "    </tr>\n",
       "    <tr>\n",
       "      <th>3</th>\n",
       "      <td>Male</td>\n",
       "      <td>71.730978</td>\n",
       "      <td>220.042470</td>\n",
       "    </tr>\n",
       "    <tr>\n",
       "      <th>4</th>\n",
       "      <td>Male</td>\n",
       "      <td>69.881796</td>\n",
       "      <td>206.349801</td>\n",
       "    </tr>\n",
       "  </tbody>\n",
       "</table>\n",
       "</div>"
      ],
      "text/plain": [
       "  Gender     Height      Weight\n",
       "0   Male  73.847017  241.893563\n",
       "1   Male  68.781904  162.310473\n",
       "2   Male   0.000000  212.740856\n",
       "3   Male  71.730978  220.042470\n",
       "4   Male  69.881796  206.349801"
      ]
     },
     "execution_count": 36,
     "metadata": {},
     "output_type": "execute_result"
    }
   ],
   "source": [
    "df = pd.read_csv(r\"D:\\Programming Stuffs\\Data Science\\Datasets\\weight-height.csv\")\n",
    "df.head()"
   ]
  },
  {
   "cell_type": "code",
   "execution_count": 37,
   "id": "dec5a9f2",
   "metadata": {},
   "outputs": [
    {
     "data": {
      "text/html": [
       "<div>\n",
       "<style scoped>\n",
       "    .dataframe tbody tr th:only-of-type {\n",
       "        vertical-align: middle;\n",
       "    }\n",
       "\n",
       "    .dataframe tbody tr th {\n",
       "        vertical-align: top;\n",
       "    }\n",
       "\n",
       "    .dataframe thead th {\n",
       "        text-align: right;\n",
       "    }\n",
       "</style>\n",
       "<table border=\"1\" class=\"dataframe\">\n",
       "  <thead>\n",
       "    <tr style=\"text-align: right;\">\n",
       "      <th></th>\n",
       "      <th>Height</th>\n",
       "      <th>Weight</th>\n",
       "    </tr>\n",
       "  </thead>\n",
       "  <tbody>\n",
       "    <tr>\n",
       "      <th>count</th>\n",
       "      <td>10000.000000</td>\n",
       "      <td>10000.000000</td>\n",
       "    </tr>\n",
       "    <tr>\n",
       "      <th>mean</th>\n",
       "      <td>166.410969</td>\n",
       "      <td>161.440357</td>\n",
       "    </tr>\n",
       "    <tr>\n",
       "      <th>std</th>\n",
       "      <td>9999.338615</td>\n",
       "      <td>32.108439</td>\n",
       "    </tr>\n",
       "    <tr>\n",
       "      <th>min</th>\n",
       "      <td>0.000000</td>\n",
       "      <td>64.700127</td>\n",
       "    </tr>\n",
       "    <tr>\n",
       "      <th>25%</th>\n",
       "      <td>63.505620</td>\n",
       "      <td>135.818051</td>\n",
       "    </tr>\n",
       "    <tr>\n",
       "      <th>50%</th>\n",
       "      <td>66.318070</td>\n",
       "      <td>161.212928</td>\n",
       "    </tr>\n",
       "    <tr>\n",
       "      <th>75%</th>\n",
       "      <td>69.177202</td>\n",
       "      <td>187.169525</td>\n",
       "    </tr>\n",
       "    <tr>\n",
       "      <th>max</th>\n",
       "      <td>1000000.000000</td>\n",
       "      <td>269.989698</td>\n",
       "    </tr>\n",
       "  </tbody>\n",
       "</table>\n",
       "</div>"
      ],
      "text/plain": [
       "               Height        Weight\n",
       "count    10000.000000  10000.000000\n",
       "mean       166.410969    161.440357\n",
       "std       9999.338615     32.108439\n",
       "min          0.000000     64.700127\n",
       "25%         63.505620    135.818051\n",
       "50%         66.318070    161.212928\n",
       "75%         69.177202    187.169525\n",
       "max    1000000.000000    269.989698"
      ]
     },
     "execution_count": 37,
     "metadata": {},
     "output_type": "execute_result"
    }
   ],
   "source": [
    "df.describe()"
   ]
  },
  {
   "cell_type": "code",
   "execution_count": 38,
   "id": "062f909a",
   "metadata": {},
   "outputs": [
    {
     "data": {
      "text/plain": [
       "(10000, 3)"
      ]
     },
     "execution_count": 38,
     "metadata": {},
     "output_type": "execute_result"
    }
   ],
   "source": [
    "df.shape"
   ]
  },
  {
   "cell_type": "markdown",
   "id": "6f7c64e8",
   "metadata": {},
   "source": [
    "## Visualize with Histogram"
   ]
  },
  {
   "cell_type": "code",
   "execution_count": 39,
   "id": "d1bea488",
   "metadata": {},
   "outputs": [
    {
     "data": {
      "text/plain": [
       "[<matplotlib.lines.Line2D at 0x1a30f953190>]"
      ]
     },
     "execution_count": 39,
     "metadata": {},
     "output_type": "execute_result"
    },
    {
     "data": {
      "image/png": "[encoded data removed]",
      "text/plain": [
       "<Figure size 600x400 with 1 Axes>"
      ]
     },
     "metadata": {},
     "output_type": "display_data"
    }
   ],
   "source": [
    "plt.figure(figsize=(6,4))\n",
    "plt.title('A Histogram showing Height(inches)')\n",
    "plt.hist(df.Height, bins=20,rwidth = 0.8, density=True)\n",
    "plt.xlabel('Count(inches)')\n",
    "plt.ylabel('Height')\n",
    "\n",
    "rng = np.arange(df.Height.min(),df.Height.max(),0.1)\n",
    "plt.plot(rng, norm.pdf(rng,df.Height.mean(),df.Height.std()))\n",
    "\n"
   ]
  },
  {
   "cell_type": "code",
   "execution_count": 40,
   "id": "27b08e0d",
   "metadata": {},
   "outputs": [
    {
     "data": {
      "text/plain": [
       "[<matplotlib.lines.Line2D at 0x1a30fa93350>]"
      ]
     },
     "execution_count": 40,
     "metadata": {},
     "output_type": "execute_result"
    },
    {
     "data": {
      "image/png": "[encoded data removed]",
      "text/plain": [
       "<Figure size 600x400 with 1 Axes>"
      ]
     },
     "metadata": {},
     "output_type": "display_data"
    }
   ],
   "source": [
    "plt.figure(figsize=(6,4))\n",
    "plt.title('A Histogram showing Weight(inches)')\n",
    "plt.hist(df.Weight, bins=20,rwidth = 0.8,density = True)\n",
    "plt.xlabel('Count(inches)')\n",
    "plt.ylabel('Weight')\n",
    "\n",
    "#Plot the Probability Density Function(PDF) curve\n",
    "rng = np.arange(df.Weight.min(),df.Weight.max(),0.1)\n",
    "plt.plot(rng, norm.pdf(rng,df.Weight.mean(),df.Weight.std()))"
   ]
  },
  {
   "cell_type": "markdown",
   "id": "d4b49fbd",
   "metadata": {},
   "source": [
    "## Building an Outlier Detector"
   ]
  },
  {
   "cell_type": "code",
   "execution_count": 41,
   "id": "2002bd0f",
   "metadata": {},
   "outputs": [
    {
     "name": "stdout",
     "output_type": "stream",
     "text": [
      "mean_changes: [Height    0.034456\n",
      "Weight    0.142539\n",
      "dtype: float64, Height    120.194875\n",
      "Weight      0.091960\n",
      "dtype: float64, Height    120.172861\n",
      "Weight      0.050578\n",
      "dtype: float64], std_changes: [Height    0.000011\n",
      "Weight    0.535050\n",
      "dtype: float64, Height    199.722045\n",
      "Weight      0.873568\n",
      "dtype: float64, Height    199.722045\n",
      "Weight      1.408601\n",
      "dtype: float64]\n",
      "\n",
      "Sample 1 chosen for outlier detection.\n",
      "The number of outliers detected are 3\n",
      "\n",
      "      Gender          Height      Weight\n",
      "9999  Female  1000000.000000  113.649103\n",
      "2014    Male       78.998742  269.989698\n",
      "9285  Female       54.263133   64.700127\n",
      "\n",
      "Cleaned Data with No Outlier\n",
      "\n",
      "      Gender     Height      Weight\n",
      "0       Male  73.847017  241.893563\n",
      "1       Male  68.781904  162.310473\n",
      "2       Male   0.000000  212.740856\n",
      "3       Male  71.730978  220.042470\n",
      "4       Male  69.881796  206.349801\n",
      "...      ...        ...         ...\n",
      "9992  Female  59.098250  110.529686\n",
      "9993  Female  66.172652  136.777454\n",
      "9994  Female  67.067155  170.867906\n",
      "9995  Female  63.867992  128.475319\n",
      "9996  Female  69.034243  163.852461\n",
      "\n",
      "[9997 rows x 3 columns]\n"
     ]
    }
   ],
   "source": [
    "import pandas as pd\n",
    "import random as rnd\n",
    "\n",
    "class OutlierDetector:\n",
    "    def __init__(self, sample_size):\n",
    "        self.sample_size = sample_size\n",
    "        self.detected_columns = None\n",
    "\n",
    "    def detect_numerical_columns(self, data):\n",
    "        numerical_columns = data.select_dtypes(include=['number']).columns.tolist()\n",
    "        self.detected_columns = numerical_columns\n",
    "\n",
    "    def sample_data(self, data):\n",
    "        samples = []\n",
    "        for column in self.detected_columns:\n",
    "            samples.append(rnd.sample(data[column].tolist(), self.sample_size))\n",
    "        return samples\n",
    "\n",
    "    def compare_samples(self, sample1, sample2, sample3):\n",
    "        samples = [sample1, sample2, sample3]\n",
    "        sample_dfs = []\n",
    "\n",
    "        for i, sample in enumerate(samples):\n",
    "            sample_df = pd.DataFrame({col: sample[i] for i, col in enumerate(self.detected_columns)})\n",
    "            sample_dfs.append(sample_df)\n",
    "\n",
    "        # Calculating mean and std of the sampled data\n",
    "        means = [sample_df.mean() for sample_df in sample_dfs]\n",
    "        stds = [sample_df.std() for sample_df in sample_dfs]\n",
    "\n",
    "        mean_changes = [abs(means[0] - means[1]) / ((means[0] + means[1]) / 2) * 100,\n",
    "                        abs(means[0] - means[2]) / ((means[0] + means[2]) / 2) * 100,\n",
    "                        abs(means[1] - means[2]) / ((means[1] + means[2]) / 2) * 100]\n",
    "\n",
    "        std_changes = [abs(stds[0] - stds[1]) / ((stds[0] + stds[1]) / 2) * 100,\n",
    "                       abs(stds[0] - stds[2]) / ((stds[0] + stds[2]) / 2) * 100,\n",
    "                       abs(stds[1] - stds[2]) / ((stds[1] + stds[2]) / 2) * 100]\n",
    "\n",
    "        return mean_changes, std_changes\n",
    "\n",
    "    def pick_sample(self, mean_changes, std_changes):\n",
    "        chosen_sample = None\n",
    "        min_mean_change = min(mean_changes[0])  # Choose the first element of mean_changes\n",
    "\n",
    "        for i, (mean_change, std_change) in enumerate(zip(mean_changes, std_changes)):\n",
    "            if mean_change[0] < 5 and std_change[0] < 5: \n",
    "                chosen_sample = i\n",
    "                break\n",
    "\n",
    "        if chosen_sample is not None:\n",
    "            print(f\"Sample {chosen_sample + 1} chosen for outlier detection.\")\n",
    "        else:\n",
    "            print(\"No suitable sample found for outlier detection.\")\n",
    "\n",
    "\n",
    "\n",
    "    def filter_outliers(self, data):\n",
    "        outliers = pd.DataFrame()\n",
    "        for column in self.detected_columns:\n",
    "            chosen_mean = data[column].mean()\n",
    "            chosen_std = data[column].std()\n",
    "            upper_limit = chosen_mean + 3 * chosen_std\n",
    "            lower_limit = chosen_mean - 3 * chosen_std\n",
    "\n",
    "            column_outliers = data[(data[column] < lower_limit) | (data[column] > upper_limit)]\n",
    "            outliers = pd.concat([outliers, column_outliers])\n",
    "\n",
    "        outliers = outliers.drop_duplicates()\n",
    "            \n",
    "        print(f'The number of outliers detected are {outliers.shape[0]}\\n')\n",
    "\n",
    "        if outliers.shape[0] > 0:\n",
    "            filtered_data = data[~data.index.isin(outliers.index)]\n",
    "            return outliers, filtered_data.reset_index(drop=True)\n",
    "        else:\n",
    "            print(\"No outliers detected.\\n\")\n",
    "            return pd.DataFrame(), data.copy()\n",
    "\n",
    "\n",
    "data = df\n",
    "sample_size = int(0.5 * len(data))  \n",
    "outlier_detector = OutlierDetector(sample_size)\n",
    "outlier_detector.detect_numerical_columns(data)\n",
    "sample1 = outlier_detector.sample_data(data)\n",
    "sample2 = outlier_detector.sample_data(data)\n",
    "sample3 = outlier_detector.sample_data(data)\n",
    "\n",
    "mean_changes, std_changes = outlier_detector.compare_samples(sample1, sample2, sample3)\n",
    "print(f'mean_changes: {mean_changes}, std_changes: {std_changes}\\n')\n",
    "\n",
    "outlier_detector.pick_sample(mean_changes, std_changes)\n",
    "\n",
    "outliers, filtered_data = outlier_detector.filter_outliers(data)\n",
    "print(outliers)\n",
    "print()\n",
    "print(\"Cleaned Data with No Outlier\\n\")\n",
    "print(filtered_data)"
   ]
  },
  {
   "cell_type": "code",
   "execution_count": 42,
   "id": "a03baf70",
   "metadata": {},
   "outputs": [
    {
     "ename": "ModuleNotFoundError",
     "evalue": "No module named 'git'",
     "output_type": "error",
     "traceback": [
      "\u001b[1;31m---------------------------------------------------------------------------\u001b[0m",
      "\u001b[1;31mModuleNotFoundError\u001b[0m                       Traceback (most recent call last)",
      "Cell \u001b[1;32mIn[42], line 1\u001b[0m\n\u001b[1;32m----> 1\u001b[0m \u001b[38;5;28;01mimport\u001b[39;00m \u001b[38;5;21;01mgit\u001b[39;00m\n",
      "\u001b[1;31mModuleNotFoundError\u001b[0m: No module named 'git'"
     ]
    }
   ],
   "source": []
  }
 ],
 "metadata": {
  "kernelspec": {
   "display_name": "Python 3 (ipykernel)",
   "language": "python",
   "name": "python3"
  },
  "language_info": {
   "codemirror_mode": {
    "name": "ipython",
    "version": 3
   },
   "file_extension": ".py",
   "mimetype": "text/x-python",
   "name": "python",
   "nbconvert_exporter": "python",
   "pygments_lexer": "ipython3",
   "version": "3.11.4"
  }
 },
 "nbformat": 4,
 "nbformat_minor": 5
}
